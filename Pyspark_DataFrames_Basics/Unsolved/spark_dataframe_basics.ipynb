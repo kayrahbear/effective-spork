version https://git-lfs.github.com/spec/v1
oid sha256:e66a3494d2534d3a31d3f9de80a6961337ff94da83f7f0c447e6365a75bcdd89
size 1811
