version https://git-lfs.github.com/spec/v1
oid sha256:d06b50b7d64142b9192de5e0d24d9ffc9e33850e369db6721bee6145eba001c2
size 2503
